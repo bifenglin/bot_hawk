{
 "cells": [
  {
   "cell_type": "code",
   "execution_count": 8,
   "outputs": [],
   "source": [
    "import sys\n",
    "import os\n",
    "def init_env_path(_file_):\n",
    "    package_dir = os.path.join(os.path.dirname(_file_), '../../')\n",
    "    abs_path = os.path.abspath(package_dir)\n",
    "    if abs_path not in sys.path:\n",
    "        print(f'Add {abs_path} to python path')\n",
    "        sys.path.insert(0, abs_path)"
   ],
   "metadata": {
    "collapsed": false,
    "ExecuteTime": {
     "end_time": "2024-02-29T07:56:55.763945Z",
     "start_time": "2024-02-29T07:56:55.745259Z"
    }
   }
  },
  {
   "cell_type": "code",
   "execution_count": 7,
   "outputs": [
    {
     "ename": "ModuleNotFoundError",
     "evalue": "No module named 'bot_hawk'",
     "output_type": "error",
     "traceback": [
      "\u001B[0;31m---------------------------------------------------------------------------\u001B[0m",
      "\u001B[0;31mModuleNotFoundError\u001B[0m                       Traceback (most recent call last)",
      "Cell \u001B[0;32mIn[7], line 1\u001B[0m\n\u001B[0;32m----> 1\u001B[0m \u001B[38;5;28;01mfrom\u001B[39;00m \u001B[38;5;21;01mapps\u001B[39;00m\u001B[38;5;21;01m.\u001B[39;00m\u001B[38;5;21;01mbot_hawk\u001B[39;00m\u001B[38;5;21;01m.\u001B[39;00m\u001B[38;5;21;01mview\u001B[39;00m\u001B[38;5;21;01m.\u001B[39;00m\u001B[38;5;21;01mapi\u001B[39;00m \u001B[38;5;28;01mimport\u001B[39;00m analyze_user_by_id\n\u001B[1;32m      2\u001B[0m \u001B[38;5;28;01mimport\u001B[39;00m \u001B[38;5;21;01mpandas\u001B[39;00m \u001B[38;5;28;01mas\u001B[39;00m \u001B[38;5;21;01mpd\u001B[39;00m\n\u001B[1;32m      3\u001B[0m \u001B[38;5;28;01mfrom\u001B[39;00m \u001B[38;5;21;01mtqdm\u001B[39;00m \u001B[38;5;28;01mimport\u001B[39;00m tqdm\n",
      "File \u001B[0;32m~/Code/bot_hawk/apps/__init__.py:3\u001B[0m\n\u001B[1;32m      1\u001B[0m \u001B[38;5;28;01mimport\u001B[39;00m \u001B[38;5;21;01mos\u001B[39;00m\n\u001B[1;32m      2\u001B[0m \u001B[38;5;28;01mfrom\u001B[39;00m \u001B[38;5;21;01mflask\u001B[39;00m \u001B[38;5;28;01mimport\u001B[39;00m Flask\n\u001B[0;32m----> 3\u001B[0m \u001B[38;5;28;01mfrom\u001B[39;00m \u001B[38;5;21;01m.\u001B[39;00m\u001B[38;5;21;01mbot_hawk\u001B[39;00m \u001B[38;5;28;01mimport\u001B[39;00m init_blue_print\n\u001B[1;32m      4\u001B[0m \u001B[38;5;28;01mfrom\u001B[39;00m \u001B[38;5;21;01m.\u001B[39;00m\u001B[38;5;21;01mutils\u001B[39;00m \u001B[38;5;28;01mimport\u001B[39;00m config_log\n\u001B[1;32m      5\u001B[0m \u001B[38;5;28;01mfrom\u001B[39;00m \u001B[38;5;21;01mbot_hawk\u001B[39;00m\u001B[38;5;21;01m.\u001B[39;00m\u001B[38;5;21;01mconfig\u001B[39;00m \u001B[38;5;28;01mimport\u001B[39;00m config\n",
      "File \u001B[0;32m~/Code/bot_hawk/apps/bot_hawk/__init__.py:1\u001B[0m\n\u001B[0;32m----> 1\u001B[0m \u001B[38;5;28;01mfrom\u001B[39;00m \u001B[38;5;21;01m.\u001B[39;00m\u001B[38;5;21;01mview\u001B[39;00m \u001B[38;5;28;01mimport\u001B[39;00m init_blue_print\n",
      "File \u001B[0;32m~/Code/bot_hawk/apps/bot_hawk/view/__init__.py:1\u001B[0m\n\u001B[0;32m----> 1\u001B[0m \u001B[38;5;28;01mfrom\u001B[39;00m \u001B[38;5;21;01m.\u001B[39;00m\u001B[38;5;21;01mindex\u001B[39;00m \u001B[38;5;28;01mimport\u001B[39;00m index\n\u001B[1;32m      2\u001B[0m \u001B[38;5;28;01mfrom\u001B[39;00m \u001B[38;5;21;01m.\u001B[39;00m\u001B[38;5;21;01mapi\u001B[39;00m \u001B[38;5;28;01mimport\u001B[39;00m api\n\u001B[1;32m      4\u001B[0m bps \u001B[38;5;241m=\u001B[39m [index, api]\n",
      "File \u001B[0;32m~/Code/bot_hawk/apps/bot_hawk/view/index.py:3\u001B[0m\n\u001B[1;32m      1\u001B[0m \u001B[38;5;28;01mimport\u001B[39;00m \u001B[38;5;21;01mos\u001B[39;00m\n\u001B[1;32m      2\u001B[0m \u001B[38;5;28;01mfrom\u001B[39;00m \u001B[38;5;21;01mflask\u001B[39;00m \u001B[38;5;28;01mimport\u001B[39;00m Blueprint, current_app, render_template, request\n\u001B[0;32m----> 3\u001B[0m \u001B[38;5;28;01mfrom\u001B[39;00m \u001B[38;5;21;01mbot_hawk\u001B[39;00m\u001B[38;5;21;01m.\u001B[39;00m\u001B[38;5;21;01mapps\u001B[39;00m\u001B[38;5;21;01m.\u001B[39;00m\u001B[38;5;21;01mutils\u001B[39;00m \u001B[38;5;28;01mimport\u001B[39;00m get_abs_dir\n\u001B[1;32m      4\u001B[0m \u001B[38;5;28;01mfrom\u001B[39;00m \u001B[38;5;21;01mbot_hawk\u001B[39;00m\u001B[38;5;21;01m.\u001B[39;00m\u001B[38;5;21;01mapps\u001B[39;00m\u001B[38;5;21;01m.\u001B[39;00m\u001B[38;5;21;01mutils\u001B[39;00m\u001B[38;5;21;01m.\u001B[39;00m\u001B[38;5;21;01mconstants\u001B[39;00m \u001B[38;5;28;01mimport\u001B[39;00m METHODTYPE\n\u001B[1;32m      6\u001B[0m index \u001B[38;5;241m=\u001B[39m Blueprint(\u001B[38;5;124m'\u001B[39m\u001B[38;5;124mindex\u001B[39m\u001B[38;5;124m'\u001B[39m, \u001B[38;5;18m__name__\u001B[39m, url_prefix\u001B[38;5;241m=\u001B[39m\u001B[38;5;124m'\u001B[39m\u001B[38;5;124m/bot_hawk/\u001B[39m\u001B[38;5;124m'\u001B[39m,\n\u001B[1;32m      7\u001B[0m                   template_folder\u001B[38;5;241m=\u001B[39mos\u001B[38;5;241m.\u001B[39mpath\u001B[38;5;241m.\u001B[39mjoin(get_abs_dir(\u001B[38;5;18m__file__\u001B[39m), \u001B[38;5;124m'\u001B[39m\u001B[38;5;124m../templates\u001B[39m\u001B[38;5;124m'\u001B[39m))\n",
      "\u001B[0;31mModuleNotFoundError\u001B[0m: No module named 'bot_hawk'"
     ]
    }
   ],
   "source": [
    "from apps.bot_hawk.view.api import analyze_user_by_id\n",
    "import pandas as pd\n",
    "from tqdm import tqdm\n",
    "\n",
    "df = pd.read_csv('./data/bothawk_data.csv')\n",
    "\n",
    "# 初始化一个空列表来存储每个用户分析的结果\n",
    "results = []\n",
    "\n",
    "# 遍历DataFrame中的每一行\n",
    "for index, row in tqdm(df.iterrows(), total=df.shape[0], desc=\"Analyzing Users\"):\n",
    "    user_id = row['id']\n",
    "    user_label = row['label']  # 获取用户的label\n",
    "    user_result = analyze_user_by_id(user_id)\n",
    "    user_result['label'] = user_label  # 将label添加到分析结果中\n",
    "    results.append(user_result)\n",
    "\n",
    "# 将结果列表转换成DataFrame\n",
    "results_df = pd.DataFrame(results)\n",
    "\n",
    "# 可选：将结果保存到新的CSV文件\n",
    "results_df.to_csv('./data/analyzed_users.csv', index=False)"
   ],
   "metadata": {
    "collapsed": false,
    "ExecuteTime": {
     "end_time": "2024-02-29T07:56:43.803345Z",
     "start_time": "2024-02-29T07:56:43.772055Z"
    }
   }
  },
  {
   "cell_type": "code",
   "execution_count": null,
   "metadata": {
    "collapsed": true
   },
   "outputs": [],
   "source": [
    "\n",
    "\n"
   ]
  }
 ],
 "metadata": {
  "kernelspec": {
   "name": "graph",
   "language": "python",
   "display_name": "graph"
  },
  "language_info": {
   "codemirror_mode": {
    "name": "ipython",
    "version": 2
   },
   "file_extension": ".py",
   "mimetype": "text/x-python",
   "name": "python",
   "nbconvert_exporter": "python",
   "pygments_lexer": "ipython2",
   "version": "2.7.6"
  }
 },
 "nbformat": 4,
 "nbformat_minor": 0
}
